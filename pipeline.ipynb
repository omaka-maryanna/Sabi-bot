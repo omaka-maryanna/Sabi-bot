{
 "cells": [
  {
   "cell_type": "code",
   "execution_count": 1,
   "id": "d43634e7",
   "metadata": {},
   "outputs": [],
   "source": [
    "import pandas as pd\n",
    "import chromadb\n",
    "from chromadb.utils import embedding_functions\n",
    "import uuid\n",
    "import time\n",
    "\n",
    "RECREATE_COLLECTIONS = False  # set True if you want to delete & rebuild collections every run\n",
    "MODEL_NAME = \"all-MiniLM-L6-v2\"\n",
    "TS = int(time.time())"
   ]
  },
  {
   "cell_type": "code",
   "execution_count": 2,
   "id": "a00bc03d",
   "metadata": {},
   "outputs": [
    {
     "name": "stderr",
     "output_type": "stream",
     "text": [
      "c:\\Users\\ADMIN\\AppData\\Local\\Programs\\Python\\Python313\\Lib\\site-packages\\tqdm\\auto.py:21: TqdmWarning: IProgress not found. Please update jupyter and ipywidgets. See https://ipywidgets.readthedocs.io/en/stable/user_install.html\n",
      "  from .autonotebook import tqdm as notebook_tqdm\n"
     ]
    },
    {
     "name": "stdout",
     "output_type": "stream",
     "text": [
      "Loaded 24 docs from Book1.xlsx\n",
      "Loaded 13 docs from Book2.xlsx\n",
      "Data successfully stored in ChromaDB ✅\n"
     ]
    }
   ],
   "source": [
    "from embed import load_excel_to_chroma\n",
    "\n",
    "files = [\"Book1.xlsx\", \"Book2.xlsx\"]  # use the actual file names\n",
    "load_excel_to_chroma(files)\n",
    "print(\"Data successfully stored in ChromaDB ✅\")"
   ]
  },
  {
   "cell_type": "code",
   "execution_count": 3,
   "id": "f1cb2089",
   "metadata": {},
   "outputs": [
    {
     "name": "stdout",
     "output_type": "stream",
     "text": [
      "Loaded 24 docs from Book1.xlsx\n",
      "Loaded 13 docs from Book2.xlsx\n",
      "All docs: ['Book1.xlsx | komando pet 30cl | 672000 | 400 pallets | nan', 'Book1.xlsx | komandorgb 30cl | 300000 | 150 pallets | nan', 'Book1.xlsx | komando pet 50cl | 616000 | 350 pallets | nan', 'Book1.xlsx | mirinda  pet 50cl | 616000 | 150 pallets | nan', 'Book1.xlsx | mirinda lite pet 40cl | 447500 | 100 pallets | nan']\n",
      "Search result: ['Book1.xlsx | mountain dew rgb 30cl | nil | nil | nil', 'Book1.xlsx | pepsi lite rgb 30cl | 300000 | 70 pallet | nan', 'Book1.xlsx | teem soda water rgb 30cl | 250000 | nil | nil']\n"
     ]
    }
   ],
   "source": [
    "from embed import load_excel_to_chroma, unified_search, get_all_documents\n",
    "\n",
    "files = [\"Book1.xlsx\", \"Book2.xlsx\"]\n",
    "load_excel_to_chroma(files)\n",
    "\n",
    "print(\"All docs:\", get_all_documents(5))\n",
    "print(\"Search result:\", unified_search(\"7up flavors\"))"
   ]
  },
  {
   "cell_type": "code",
   "execution_count": 4,
   "id": "f748c308",
   "metadata": {},
   "outputs": [
    {
     "name": "stdout",
     "output_type": "stream",
     "text": [
      "Deleted 37 documents from ChromaDB\n",
      "Loaded 24 docs from Book1.xlsx\n",
      "Loaded 13 docs from Book2.xlsx\n",
      "All docs preview: ['komando pet 30cl | 672000 | 400 pallets | nan', 'komandorgb 30cl | 300000 | 150 pallets | nan', 'komando pet 50cl | 616000 | 350 pallets | nan', 'mirinda  pet 50cl  | 616000 | 150 pallets | nan', 'mirinda lite pet 40cl  | 447500 | 100 pallets | nan']\n",
      "Search result: ['komando mix berry  pet 30cl | 672000 | 300 pallet | nan', '7up lite pet 40cl | 447500 | nil | nil', 'pepsi lite rgb 30cl | 300000 | 70 pallet | nan']\n"
     ]
    }
   ],
   "source": [
    "from embed import reset_database, load_excel_to_chroma, unified_search, get_all_documents\n",
    "\n",
    "reset_database()\n",
    "files = [\"Book1.xlsx\", \"Book2.xlsx\"]\n",
    "load_excel_to_chroma(files)\n",
    "\n",
    "print(\"All docs preview:\", get_all_documents(5))\n",
    "print(\"Search result:\", unified_search(\"7up flavors\"))\n"
   ]
  },
  {
   "cell_type": "code",
   "execution_count": 5,
   "id": "9e5039c1",
   "metadata": {},
   "outputs": [
    {
     "name": "stdout",
     "output_type": "stream",
     "text": [
      "Preview from Book2 data:\n",
      "['komando pet 30cl | 672000 | 400 pallets | nan', 'komandorgb 30cl | 300000 | 150 pallets | nan', 'komando pet 50cl | 616000 | 350 pallets | nan', 'mirinda  pet 50cl  | 616000 | 150 pallets | nan', 'mirinda lite pet 40cl  | 447500 | 100 pallets | nan', 'mirinda lite rgb 30cl  | 250000 | nil | nil', 'mirinda lite rgb 50cl  | 400000 | 250 pallets | nan', 'pepsi pet 50cl | 616000 | 300 pallet | nan', 'pepsi lite pet 40cl | 300000 | 210 pallet | nan', 'pepsi lite rgb 30cl | 300000 | 70 pallet | nan', 'pepsi lite rgb 50cl | 350000 | 200 pallet | nan', '7up pet 50cl | 616000 | nil | nil', '7up lite pet 40cl | 447500 | nil | nil', '7up rgb 30 cl | 250000 | 200 pallet | nan', '7up rgb 50 cl | 400000 | 210 pallet | nan', 'teem soda water pet 50cl  | 616000 | 250 pallets | nan', 'teem soda water rgb 30cl  | 250000 | nil | nil', 'komando mix berry  pet 30cl | 672000 | 300 pallet | nan', 'teem biter lemon pet 50cl | 616000 | 250 pallets | nan', 'teem biter lemon rgb 30cl | 250000 | nil | nil']\n"
     ]
    }
   ],
   "source": [
    "print(\"Preview from Book2 data:\")\n",
    "print(get_all_documents(20))  # increase the limit to see all docs"
   ]
  },
  {
   "cell_type": "code",
   "execution_count": 6,
   "id": "d7243062",
   "metadata": {},
   "outputs": [
    {
     "name": "stdout",
     "output_type": "stream",
     "text": [
      "Book2 shape: (13, 6)\n",
      "Added 13 documents from Book2.xlsx ✅\n",
      "\n",
      "Book2 documents count: 13\n",
      "Book2.xlsx | David | Tata  | 3522 | owerri  | 205864892 | 10\n",
      "Book2.xlsx | Mark  | Mercedies  | 25513 | Eket | 204589756 | 10\n",
      "Book2.xlsx | Prince  | Tata  | 12545 | uyo | 21455696 | 10\n",
      "Book2.xlsx | Micheal James | Tata  | 25846 | umuahia | 20215867 | 10\n",
      "Book2.xlsx |  Prince Mark  | Daf  | 23589 | calabar | 247852 | 22\n",
      "Book2.xlsx | James  | Daf  | 25687 | calabar | 20245666 | 22\n",
      "Book2.xlsx | Peter Noble  | Mercedies  | 1255 | Eket | 214782256 | 10\n",
      "Book2.xlsx | JUDE  | Mercedies  | 1458 | ngor okpala | 2124589 | 22\n",
      "Book2.xlsx |  david oko | Tata  | 45899 | aba | 202458646 | 10\n",
      "Book2.xlsx | Noble Eze  | Mercedies  | 25458 | aba | 20245867 | 22\n",
      "\n",
      "Search results for 'Komando PET 50CL 400 pallets':\n",
      "['komando pet 50cl | 616000 | 350 pallets | nan', 'komando pet 30cl | 672000 | 400 pallets | nan', 'komando mix berry  pet 30cl | 672000 | 300 pallet | nan', 'komandorgb 30cl | 300000 | 150 pallets | nan', 'mirinda lite pet 40cl  | 447500 | 100 pallets | nan']\n"
     ]
    }
   ],
   "source": [
    "import os\n",
    "import pandas as pd\n",
    "from embed import collection, get_all_documents, unified_search\n",
    "\n",
    "book2_path = \"Book2.xlsx\"\n",
    "\n",
    "if not os.path.exists(book2_path):\n",
    "    raise FileNotFoundError(f\"{book2_path} not found in notebook directory\")\n",
    "\n",
    "df2 = pd.read_excel(book2_path)\n",
    "print(f\"Book2 shape: {df2.shape}\")\n",
    "\n",
    "docs2 = []\n",
    "for j, row in df2.iterrows():\n",
    "    row_text = \" | \".join([str(cell) for cell in row if str(cell).strip()])\n",
    "    if row_text:\n",
    "        docs2.append(f\"Book2.xlsx | {row_text}\")\n",
    "\n",
    "if not docs2:\n",
    "    raise ValueError(\"No valid rows to add from Book2.xlsx\")\n",
    "\n",
    "existing_ids = collection.get().get(\"ids\", [])\n",
    "start_idx = len(existing_ids)\n",
    "ids2 = [f\"book2_row_{start_idx + j}\" for j in range(len(docs2))]\n",
    "\n",
    "collection.add(documents=docs2, ids=ids2)\n",
    "print(f\"Added {len(docs2)} documents from Book2.xlsx ✅\")\n",
    "\n",
    "all_docs = get_all_documents(50)\n",
    "book2_docs = [doc for doc in all_docs if \"Book2.xlsx\" in doc]\n",
    "print(f\"\\nBook2 documents count: {len(book2_docs)}\")\n",
    "for d in book2_docs[:10]:\n",
    "    print(d)\n",
    "\n",
    "test_query = \"Komando PET 50CL 400 pallets\"\n",
    "search_results = unified_search(test_query, n_results=5)\n",
    "print(f\"\\nSearch results for '{test_query}':\")\n",
    "print(search_results)"
   ]
  },
  {
   "cell_type": "code",
   "execution_count": 7,
   "id": "c0d96a6d",
   "metadata": {},
   "outputs": [
    {
     "name": "stdout",
     "output_type": "stream",
     "text": [
      "['prince mark  | daf  | 23589 | calabar | 247852 | 22', 'princewill eke | mack | 56485 | calabar | 201256485 | 22', 'Book2.xlsx |  Prince Mark  | Daf  | 23589 | calabar | 247852 | 22', 'Book2.xlsx | Princewill Eke | Mack | 56485 | calabar | 201256485 | 22', 'prince  | tata  | 12545 | uyo | 21455696 | 10']\n"
     ]
    }
   ],
   "source": [
    "from embed import unified_search\n",
    "\n",
    "query = \"Driver Prince Mark on calabar route\"\n",
    "results = unified_search(query, n_results=5)\n",
    "print(results)"
   ]
  },
  {
   "cell_type": "code",
   "execution_count": 8,
   "id": "2906d17b",
   "metadata": {},
   "outputs": [
    {
     "name": "stdout",
     "output_type": "stream",
     "text": [
      "['mark  | mercedies  | 25513 | eket | 204589756 | 10', 'princewill eke | mack | 56485 | calabar | 201256485 | 22', 'david oko | tata  | 45899 | aba | 202458646 | 10', 'eke david  | howo cng | 12545 | benin  | 202154871 | 22', 'komando pet 50cl | 616000 | 350 pallets | nan']\n"
     ]
    }
   ],
   "source": [
    "query = \"Which drivers deliver to Eket?\"\n",
    "results = unified_search(query, n_results=5)\n",
    "print(results)"
   ]
  },
  {
   "cell_type": "code",
   "execution_count": 9,
   "id": "aed09235",
   "metadata": {},
   "outputs": [
    {
     "name": "stdout",
     "output_type": "stream",
     "text": [
      "['pepsi lite rgb 30cl | 300000 | 70 pallet | nan', 'pepsi lite rgb 50cl | 350000 | 200 pallet | nan', 'teem soda water rgb 30cl  | 250000 | nil | nil', 'pepsi lite pet 40cl | 300000 | 210 pallet | nan', 'mountain dew rgb 30cl | nil | nil | nil', 'pepsi pet 50cl | 616000 | 300 pallet | nan', 'teem biter lemon rgb 30cl | 250000 | nil | nil', 'mirinda lite rgb 30cl  | 250000 | nil | nil', '7up rgb 30 cl | 250000 | 200 pallet | nan', '7up rgb 50 cl | 400000 | 210 pallet | nan']\n"
     ]
    }
   ],
   "source": [
    "from embed import unified_search\n",
    "results = unified_search(\"Pepsi Lite RGB 30CL\", n_results=10)\n",
    "print(results)"
   ]
  },
  {
   "cell_type": "code",
   "execution_count": 10,
   "id": "719b5eeb",
   "metadata": {},
   "outputs": [],
   "source": [
    "def load_excel_to_chroma(file_paths):\n",
    "    for i, path in enumerate(file_paths):\n",
    "        if not os.path.exists(path):\n",
    "            print(f\"File not found: {path}\")\n",
    "            continue\n",
    "        df = pd.read_excel(path)\n",
    "        docs = df.astype(str).apply(\n",
    "            lambda row: f\"{os.path.basename(path)} | \" + \" | \".join([str(cell).strip() for cell in row]),\n",
    "            axis=1\n",
    "        ).tolist()\n",
    "        ids = [f\"doc_{i}_{j}\" for j in range(len(docs))]\n",
    "        collection.add(documents=docs, ids=ids)\n",
    "        print(f\"Loaded {len(docs)} docs from {path}\")"
   ]
  },
  {
   "cell_type": "code",
   "execution_count": 11,
   "id": "14c07025",
   "metadata": {},
   "outputs": [
    {
     "name": "stdout",
     "output_type": "stream",
     "text": [
      "Deleted 50 documents from ChromaDB\n"
     ]
    }
   ],
   "source": [
    "from embed import reset_database\n",
    "reset_database()"
   ]
  },
  {
   "cell_type": "code",
   "execution_count": 12,
   "id": "8c5a1fbd",
   "metadata": {},
   "outputs": [
    {
     "name": "stdout",
     "output_type": "stream",
     "text": [
      "Loaded 24 docs from Book1.xlsx\n",
      "Loaded 13 docs from Book2.xlsx\n"
     ]
    }
   ],
   "source": [
    "from embed import load_excel_to_chroma\n",
    "\n",
    "files = [\"Book1.xlsx\", \"Book2.xlsx\"]\n",
    "load_excel_to_chroma(files)"
   ]
  },
  {
   "cell_type": "code",
   "execution_count": 13,
   "id": "ee06aeff",
   "metadata": {},
   "outputs": [
    {
     "name": "stdout",
     "output_type": "stream",
     "text": [
      "['7up rgb 30 cl | 250000 | 200 pallet | nan', '7up rgb 50 cl | 400000 | 210 pallet | nan', 'pepsi lite rgb 30cl | 300000 | 70 pallet | nan', 'mirinda lite rgb 30cl  | 250000 | nil | nil', 'teem biter lemon rgb 30cl | 250000 | nil | nil', 'teem soda water rgb 30cl  | 250000 | nil | nil', 'pepsi lite rgb 50cl | 350000 | 200 pallet | nan', 'mirinda lite rgb 50cl  | 400000 | 250 pallets | nan', 'mountain dew rgb 30cl | nil | nil | nil', '7up lite pet 40cl | 447500 | nil | nil']\n"
     ]
    }
   ],
   "source": [
    "from embed import unified_search\n",
    "\n",
    "print(unified_search(\"7up rgb 30 cl\", n_results=10))"
   ]
  },
  {
   "cell_type": "code",
   "execution_count": 14,
   "id": "cd54c532",
   "metadata": {},
   "outputs": [
    {
     "name": "stdout",
     "output_type": "stream",
     "text": [
      "komando pet 30cl | 672000 | 400 pallets | nan\n",
      "komandorgb 30cl | 300000 | 150 pallets | nan\n",
      "komando pet 50cl | 616000 | 350 pallets | nan\n",
      "mirinda  pet 50cl  | 616000 | 150 pallets | nan\n",
      "mirinda lite pet 40cl  | 447500 | 100 pallets | nan\n",
      "mirinda lite rgb 30cl  | 250000 | nil | nil\n",
      "mirinda lite rgb 50cl  | 400000 | 250 pallets | nan\n",
      "pepsi pet 50cl | 616000 | 300 pallet | nan\n",
      "pepsi lite pet 40cl | 300000 | 210 pallet | nan\n",
      "pepsi lite rgb 30cl | 300000 | 70 pallet | nan\n",
      "pepsi lite rgb 50cl | 350000 | 200 pallet | nan\n",
      "7up pet 50cl | 616000 | nil | nil\n",
      "7up lite pet 40cl | 447500 | nil | nil\n",
      "7up rgb 30 cl | 250000 | 200 pallet | nan\n",
      "7up rgb 50 cl | 400000 | 210 pallet | nan\n",
      "teem soda water pet 50cl  | 616000 | 250 pallets | nan\n",
      "teem soda water rgb 30cl  | 250000 | nil | nil\n",
      "komando mix berry  pet 30cl | 672000 | 300 pallet | nan\n",
      "teem biter lemon pet 50cl | 616000 | 250 pallets | nan\n",
      "teem biter lemon rgb 30cl | 250000 | nil | nil\n",
      "mirinda pineapple pet 50cl  | 616000 | 250 pallets | nan\n",
      "mountain dew rgb 30cl | nil | nil | nil\n",
      "aquaafina pet 75cl | 240000 | 400 pallets | nan\n",
      "aquaafina pet 1 litter  | 300000 | 100 pallets | nan\n",
      "david | tata  | 3522 | owerri  | 205864892 | 10\n",
      "mark  | mercedies  | 25513 | eket | 204589756 | 10\n",
      "prince  | tata  | 12545 | uyo | 21455696 | 10\n",
      "micheal james | tata  | 25846 | umuahia | 20215867 | 10\n",
      "prince mark  | daf  | 23589 | calabar | 247852 | 22\n",
      "james  | daf  | 25687 | calabar | 20245666 | 22\n",
      "peter noble  | mercedies  | 1255 | eket | 214782256 | 10\n",
      "jude  | mercedies  | 1458 | ngor okpala | 2124589 | 22\n",
      "david oko | tata  | 45899 | aba | 202458646 | 10\n",
      "noble eze  | mercedies  | 25458 | aba | 20245867 | 22\n",
      "godswill dike  | tata  | 25489 | port harcourt | 205898945 | 10\n",
      "princewill eke | mack | 56485 | calabar | 201256485 | 22\n",
      "eke david  | howo cng | 12545 | benin  | 202154871 | 22\n"
     ]
    }
   ],
   "source": [
    "from embed import get_all_documents\n",
    "\n",
    "all_docs = get_all_documents(50)  # increase limit to see more\n",
    "for doc in all_docs:\n",
    "    print(doc)"
   ]
  },
  {
   "cell_type": "code",
   "execution_count": 20,
   "id": "2ccc645c",
   "metadata": {},
   "outputs": [
    {
     "name": "stdout",
     "output_type": "stream",
     "text": [
      "Book2 documents count: 0\n"
     ]
    }
   ],
   "source": [
    "book2_docs = [doc for doc in all_docs if doc.startswith(\"Book2.xlsx\")]\n",
    "print(\"Book2 documents count:\", len(book2_docs))\n",
    "for doc in book2_docs:\n",
    "    print(doc)"
   ]
  },
  {
   "cell_type": "code",
   "execution_count": 16,
   "id": "2b64d130",
   "metadata": {},
   "outputs": [
    {
     "name": "stdout",
     "output_type": "stream",
     "text": [
      "Deleted 37 documents from ChromaDB\n",
      "Loaded 24 docs from Book1.xlsx\n",
      "Loaded 13 docs from Book2.xlsx\n"
     ]
    }
   ],
   "source": [
    "from embed import reset_database, load_excel_to_chroma\n",
    "\n",
    "reset_database()  # clears all old documents\n",
    "files = [\"Book1.xlsx\", \"Book2.xlsx\"]\n",
    "load_excel_to_chroma(files)"
   ]
  },
  {
   "cell_type": "code",
   "execution_count": 21,
   "id": "5e3b6c5e",
   "metadata": {},
   "outputs": [
    {
     "name": "stdout",
     "output_type": "stream",
     "text": [
      "Deleted 37 documents from ChromaDB\n"
     ]
    }
   ],
   "source": [
    "from embed import reset_database\n",
    "reset_database()"
   ]
  },
  {
   "cell_type": "code",
   "execution_count": 22,
   "id": "010d8b03",
   "metadata": {},
   "outputs": [
    {
     "name": "stdout",
     "output_type": "stream",
     "text": [
      "Loaded 24 docs from Book1.xlsx\n",
      "Loaded 13 docs from Book2.xlsx\n"
     ]
    }
   ],
   "source": [
    "from embed import load_excel_to_chroma\n",
    "\n",
    "files = [\"Book1.xlsx\", \"Book2.xlsx\"]\n",
    "load_excel_to_chroma(files)"
   ]
  },
  {
   "cell_type": "code",
   "execution_count": 23,
   "id": "d946fddc",
   "metadata": {},
   "outputs": [
    {
     "name": "stdout",
     "output_type": "stream",
     "text": [
      "['7up rgb 30 cl | 250000 | 200 pallet | nan', '7up rgb 50 cl | 400000 | 210 pallet | nan', 'pepsi lite rgb 30cl | 300000 | 70 pallet | nan', 'mirinda lite rgb 30cl  | 250000 | nil | nil', 'teem biter lemon rgb 30cl | 250000 | nil | nil', 'teem soda water rgb 30cl  | 250000 | nil | nil', 'pepsi lite rgb 50cl | 350000 | 200 pallet | nan', 'mirinda lite rgb 50cl  | 400000 | 250 pallets | nan', 'mountain dew rgb 30cl | nil | nil | nil', '7up lite pet 40cl | 447500 | nil | nil']\n",
      "['david | tata  | 3522 | owerri  | 205864892 | 10', 'james  | daf  | 25687 | calabar | 20245666 | 22', 'princewill eke | mack | 56485 | calabar | 201256485 | 22', 'peter noble  | mercedies  | 1255 | eket | 214782256 | 10', 'prince mark  | daf  | 23589 | calabar | 247852 | 22', 'david oko | tata  | 45899 | aba | 202458646 | 10', 'jude  | mercedies  | 1458 | ngor okpala | 2124589 | 22', 'teem biter lemon rgb 30cl | 250000 | nil | nil', 'micheal james | tata  | 25846 | umuahia | 20215867 | 10', 'noble eze  | mercedies  | 25458 | aba | 20245867 | 22']\n"
     ]
    }
   ],
   "source": [
    "from embed import unified_search\n",
    "\n",
    "print(unified_search(\"7up rgb 30 cl\", n_results=10))\n",
    "print(unified_search(\"driver to owerri\", n_results=10))"
   ]
  }
 ],
 "metadata": {
  "kernelspec": {
   "display_name": "Python 3",
   "language": "python",
   "name": "python3"
  },
  "language_info": {
   "codemirror_mode": {
    "name": "ipython",
    "version": 3
   },
   "file_extension": ".py",
   "mimetype": "text/x-python",
   "name": "python",
   "nbconvert_exporter": "python",
   "pygments_lexer": "ipython3",
   "version": "3.13.5"
  }
 },
 "nbformat": 4,
 "nbformat_minor": 5
}
